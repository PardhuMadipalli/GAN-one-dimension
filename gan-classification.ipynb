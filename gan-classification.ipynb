{
  "nbformat": 4,
  "nbformat_minor": 5,
  "metadata": {
    "kernelspec": {
      "display_name": "Python 3",
      "language": "python",
      "name": "python3"
    },
    "language_info": {
      "codemirror_mode": {
        "name": "ipython",
        "version": 3
      },
      "file_extension": ".py",
      "mimetype": "text/x-python",
      "name": "python",
      "nbconvert_exporter": "python",
      "pygments_lexer": "ipython3",
      "version": "3.8.2"
    },
    "colab": {
      "name": "gan-classification.ipynb",
      "provenance": [],
      "include_colab_link": true
    }
  },
  "cells": [
    {
      "cell_type": "markdown",
      "metadata": {
        "id": "view-in-github",
        "colab_type": "text"
      },
      "source": [
        "<a href=\"https://colab.research.google.com/github/PardhuMadipalli/GAN-one-dimension/blob/main/gan-classification.ipynb\" target=\"_parent\"><img src=\"https://colab.research.google.com/assets/colab-badge.svg\" alt=\"Open In Colab\"/></a>"
      ]
    },
    {
      "cell_type": "code",
      "metadata": {
        "id": "928a6c95",
        "outputId": "55fba61d-6ff6-404f-820f-23d4d3a2a65f"
      },
      "source": [
        "import main\n",
        "import target_based_classification as tbc"
      ],
      "id": "928a6c95",
      "execution_count": null,
      "outputs": [
        {
          "output_type": "stream",
          "text": [
            "number of bands =  167\n",
            "[6, 18, 11, 1, 5]\n"
          ],
          "name": "stdout"
        }
      ]
    },
    {
      "cell_type": "code",
      "metadata": {
        "id": "2d4dbc46"
      },
      "source": [
        ""
      ],
      "id": "2d4dbc46",
      "execution_count": null,
      "outputs": []
    }
  ]
}