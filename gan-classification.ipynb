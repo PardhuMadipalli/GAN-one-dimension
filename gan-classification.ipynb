{
 "cells": [
  {
   "cell_type": "markdown",
   "id": "bf9a4f03",
   "metadata": {
    "colab_type": "text",
    "id": "view-in-github"
   },
   "source": [
    "<a href=\"https://colab.research.google.com/github/PardhuMadipalli/GAN-one-dimension/blob/main/gan-classification.ipynb\" target=\"_parent\"><img src=\"https://colab.research.google.com/assets/colab-badge.svg\" alt=\"Open In Colab\"/></a>"
   ]
  },
  {
   "cell_type": "code",
   "execution_count": null,
   "id": "3494e7d6",
   "metadata": {},
   "outputs": [],
   "source": [
    "import sys\n",
    "!{sys.executable} -m pip install tensorflow~=2.4.1\n",
    "!{sys.executable} -m pip install matplotlib~=3.3.3\n",
    "!{sys.executable} -m pip install numpy~=1.19.5\n",
    "!{sys.executable} -m pip install Pillow~=8.0.1"
   ]
  },
  {
   "cell_type": "code",
   "execution_count": null,
   "id": "928a6c95",
   "metadata": {
    "id": "928a6c95",
    "outputId": "55fba61d-6ff6-404f-820f-23d4d3a2a65f"
   },
   "outputs": [],
   "source": [
    "import main\n",
    "import target_based_classification as tbc"
   ]
  },
  {
   "cell_type": "code",
   "execution_count": null,
   "id": "514f7a1c",
   "metadata": {},
   "outputs": [],
   "source": [
    "# Use this to generate target based samples from file: data/HSI_3D.mat\n",
    "# Run this only if you want to generate new samples\n",
    "out_mat_name, class_array = tbc.target_based_classification(\"data/HSI_3D.mat\", 5, top_n=20, threshold_degrees=4)"
   ]
  },
  {
   "cell_type": "code",
   "execution_count": null,
   "id": "cbbf4edb",
   "metadata": {},
   "outputs": [],
   "source": [
    "# Run the GAN using the generated sample in the line above\n",
    "# If you want to use a pre-existing mat file, rather than the one generated from target_based_classification, \n",
    "# then skip to the next line \n",
    "main.main(out_mat_name, class_array, training_epochs=1)"
   ]
  },
  {
   "cell_type": "code",
   "execution_count": null,
   "id": "2d4dbc46",
   "metadata": {
    "id": "2d4dbc46"
   },
   "outputs": [],
   "source": [
    "# use this to train data.mat file with the given class array\n",
    "main.main(\"data\", [124, 64, 147, 129, 193], training_epochs=1)"
   ]
  },
  {
   "cell_type": "code",
   "execution_count": null,
   "id": "b28cee46",
   "metadata": {},
   "outputs": [],
   "source": [
    "main.main(\"target_based_samples\", pred_epochs_count=1, num_classes=5)"
   ]
  }
 ],
 "metadata": {
  "colab": {
   "include_colab_link": true,
   "name": "gan-classification.ipynb",
   "provenance": []
  },
  "kernelspec": {
   "display_name": "Python 3",
   "language": "python",
   "name": "python3"
  },
  "language_info": {
   "codemirror_mode": {
    "name": "ipython",
    "version": 3
   },
   "file_extension": ".py",
   "mimetype": "text/x-python",
   "name": "python",
   "nbconvert_exporter": "python",
   "pygments_lexer": "ipython3",
   "version": "3.8.2"
  }
 },
 "nbformat": 4,
 "nbformat_minor": 5
}
