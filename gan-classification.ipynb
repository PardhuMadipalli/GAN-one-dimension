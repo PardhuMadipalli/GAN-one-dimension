{
 "cells": [
  {
   "cell_type": "code",
   "execution_count": 1,
   "id": "928a6c95",
   "metadata": {},
   "outputs": [
    {
     "name": "stdout",
     "output_type": "stream",
     "text": [
      "number of bands =  167\n",
      "[6, 18, 11, 1, 5]\n"
     ]
    }
   ],
   "source": [
    "import main\n",
    "import target_based_classification as tbc"
   ]
  },
  {
   "cell_type": "code",
   "execution_count": null,
   "id": "2d4dbc46",
   "metadata": {},
   "outputs": [],
   "source": []
  }
 ],
 "metadata": {
  "kernelspec": {
   "display_name": "Python 3",
   "language": "python",
   "name": "python3"
  },
  "language_info": {
   "codemirror_mode": {
    "name": "ipython",
    "version": 3
   },
   "file_extension": ".py",
   "mimetype": "text/x-python",
   "name": "python",
   "nbconvert_exporter": "python",
   "pygments_lexer": "ipython3",
   "version": "3.8.2"
  }
 },
 "nbformat": 4,
 "nbformat_minor": 5
}
